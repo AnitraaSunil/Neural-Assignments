{
 "cells": [
  {
   "cell_type": "markdown",
   "id": "7c670542",
   "metadata": {},
   "source": [
    "# 1. Write a program to check if a given number is prime\n"
   ]
  },
  {
   "cell_type": "markdown",
   "id": "cda2b1c1",
   "metadata": {},
   "source": [
    "Prime Number :Number that can be divided exactly only by itself and 1"
   ]
  },
  {
   "cell_type": "code",
   "execution_count": 2,
   "id": "a7e6a529",
   "metadata": {},
   "outputs": [
    {
     "name": "stdout",
     "output_type": "stream",
     "text": [
      "Enter any number: 5\n",
      "5 is a prime number\n"
     ]
    }
   ],
   "source": [
    "number = int(input(\"Enter any number: \"))\n",
    "if number > 1:\n",
    "    for i in range(2, number):\n",
    "        if (number % i) == 0:\n",
    "            print(number, \"is not a prime number\")\n",
    "            break\n",
    "    else:\n",
    "        print(number, \"is a prime number\")\n",
    "else:\n",
    "    print(number, \"is not a prime number\")"
   ]
  },
  {
   "cell_type": "markdown",
   "id": "97d21b5c",
   "metadata": {},
   "source": [
    "# 2. Write a program to find the factorial of a given number.\n"
   ]
  },
  {
   "cell_type": "markdown",
   "id": "e4222fcf",
   "metadata": {},
   "source": [
    "Factorial: The factorial of a number is the product of all the integers from 1 to that number.\n"
   ]
  },
  {
   "cell_type": "code",
   "execution_count": 3,
   "id": "1d4f07fa",
   "metadata": {},
   "outputs": [
    {
     "name": "stdout",
     "output_type": "stream",
     "text": [
      " 6\n",
      " Factorial of the number is 720\n"
     ]
    }
   ],
   "source": [
    "factorial = int(input(\" \"))\n",
    "for i in range(2, factorial):\n",
    "    factorial *= i\n",
    "print (\" Factorial of the number is\", factorial)"
   ]
  },
  {
   "cell_type": "markdown",
   "id": "8d32cacd",
   "metadata": {},
   "source": [
    "# 3. Write a program to reverse a given string"
   ]
  },
  {
   "cell_type": "markdown",
   "id": "6536d3be",
   "metadata": {},
   "source": [
    "Reversing a given string"
   ]
  },
  {
   "cell_type": "code",
   "execution_count": 4,
   "id": "648b10c3",
   "metadata": {},
   "outputs": [
    {
     "name": "stdout",
     "output_type": "stream",
     "text": [
      " Transformers\n",
      " the original string Transformers\n",
      " the reverse string sremrofsnarT \n"
     ]
    }
   ],
   "source": [
    "stringg = input(\" \")\n",
    "rsting =\" \"\n",
    "for i in stringg:\n",
    "    rsting = i + rsting\n",
    "print(\" the original string\", stringg)\n",
    "print(\" the reverse string\", rsting)"
   ]
  },
  {
   "cell_type": "markdown",
   "id": "d4b12596",
   "metadata": {},
   "source": [
    "# 4. Write a program to find the sum of all numbers in a list."
   ]
  },
  {
   "cell_type": "markdown",
   "id": "45d9bd50",
   "metadata": {},
   "source": [
    "Adding all the numbers in the given list"
   ]
  },
  {
   "cell_type": "code",
   "execution_count": 6,
   "id": "b041b507",
   "metadata": {},
   "outputs": [
    {
     "name": "stdout",
     "output_type": "stream",
     "text": [
      "Sum of all numbers: 6\n"
     ]
    }
   ],
   "source": [
    "x= [1,2,3]\n",
    "num = 0\n",
    "for i in x:\n",
    "    num+=i\n",
    "print('Sum of all numbers:' ,num)"
   ]
  },
  {
   "cell_type": "markdown",
   "id": "f64ef10a",
   "metadata": {},
   "source": [
    "# 5. Write a program to count the number of vowels in a given string\n",
    "\n"
   ]
  },
  {
   "cell_type": "markdown",
   "id": "8bb97c63",
   "metadata": {},
   "source": [
    "Counting of vowels in given string\n"
   ]
  },
  {
   "cell_type": "code",
   "execution_count": 8,
   "id": "66c8d761",
   "metadata": {},
   "outputs": [
    {
     "name": "stdout",
     "output_type": "stream",
     "text": [
      " Transformers\n",
      "Number of vowels in the string 3\n"
     ]
    }
   ],
   "source": [
    "Stringi = input(\" \")\n",
    "Vowels = ('aeiouAEIOUU')\n",
    "counti = 0\n",
    "for i in Stringi:\n",
    "    if i in Vowels:        \n",
    "        counti+=1\n",
    "print(\"Number of vowels in the string\", counti,)  "
   ]
  },
  {
   "cell_type": "markdown",
   "id": "5e1352f1",
   "metadata": {},
   "source": [
    "# 6. Write a program to find the largest element in a list."
   ]
  },
  {
   "cell_type": "markdown",
   "id": "9c8a94db",
   "metadata": {},
   "source": [
    "Largest number in a list"
   ]
  },
  {
   "cell_type": "code",
   "execution_count": 9,
   "id": "68cc7661",
   "metadata": {},
   "outputs": [
    {
     "name": "stdout",
     "output_type": "stream",
     "text": [
      "Largest number in the given list 6\n"
     ]
    }
   ],
   "source": [
    "Num =[1,3,5,6]\n",
    "for i in Num:\n",
    "    Num.sort()        \n",
    "print(\"Largest number in the given list\",Num[-1])"
   ]
  },
  {
   "cell_type": "markdown",
   "id": "58402889",
   "metadata": {},
   "source": [
    "# 7. Write a program to check if a given string is a palindrome\n"
   ]
  },
  {
   "cell_type": "markdown",
   "id": "f3d5bcfe",
   "metadata": {},
   "source": [
    "A palindrome means that reads the same backward"
   ]
  },
  {
   "cell_type": "code",
   "execution_count": 10,
   "id": "8ba0ce02",
   "metadata": {},
   "outputs": [
    {
     "name": "stdout",
     "output_type": "stream",
     "text": [
      "Enter the srting:madam\n",
      "Reverse string: madam\n",
      "The string is palindrome\n"
     ]
    }
   ],
   "source": [
    "string = input (\"Enter the srting:\")\n",
    "revstr =\"\"\n",
    "for i in string:\n",
    "    revstr = i+ revstr\n",
    "print(\"Reverse string:\",revstr)\n",
    "if(string==revstr):\n",
    "    print(\"The string is palindrome\")\n",
    "else:\n",
    "    print(\"The given string is not a palindrome\")"
   ]
  },
  {
   "cell_type": "markdown",
   "id": "95fd3823",
   "metadata": {},
   "source": [
    "# 8. Write a program to find the common elements between two lists.\n"
   ]
  },
  {
   "cell_type": "markdown",
   "id": "698eaa16",
   "metadata": {},
   "source": [
    "Finding the common elements between two lists"
   ]
  },
  {
   "cell_type": "code",
   "execution_count": 11,
   "id": "5f9afaf0",
   "metadata": {},
   "outputs": [
    {
     "name": "stdout",
     "output_type": "stream",
     "text": [
      "The common elements of two list are [2, 3, 5]\n"
     ]
    }
   ],
   "source": [
    "list1 = [1,2,3,4,5,6]\n",
    "list2 = [2,3,5,7,8,9,10]\n",
    "x= []\n",
    "for i in list1:\n",
    "    if i in list2:\n",
    "        x.append(i)\n",
    "print(\"The common elements of two list are\", x)"
   ]
  },
  {
   "cell_type": "markdown",
   "id": "a4f777a2",
   "metadata": {},
   "source": [
    "# 9. Write a program to calculate the Fibonacci sequence up to a given number"
   ]
  },
  {
   "cell_type": "markdown",
   "id": "501366b8",
   "metadata": {},
   "source": [
    "Fibonacci series of numbers in which each number is the sum of the two preceding numbers"
   ]
  },
  {
   "cell_type": "code",
   "execution_count": 12,
   "id": "a0086306",
   "metadata": {},
   "outputs": [
    {
     "name": "stdout",
     "output_type": "stream",
     "text": [
      " 10\n",
      "Fibonacci Series: \n",
      "0 1 1 2 3 5 8 13 21 34 "
     ]
    }
   ],
   "source": [
    "n = int(input(' '))\n",
    "num1 = 0\n",
    "num2 = 1\n",
    "print('Fibonacci Series: ')\n",
    "for z in range(0,n):\n",
    "    if(z<=1):\n",
    "        num3 = z\n",
    "    else:\n",
    "        num3 = num1+num2\n",
    "        num1 = num2\n",
    "        num2 = num3\n",
    "    print(num3,end=' ')"
   ]
  },
  {
   "cell_type": "markdown",
   "id": "f6cf65aa",
   "metadata": {},
   "source": [
    "# 10. Write a program to check if a given string is an anagram of another string."
   ]
  },
  {
   "cell_type": "markdown",
   "id": "0008c197",
   "metadata": {},
   "source": [
    "An anagram is a word or phrase that's formed by rearranging the letters of another word or phrase"
   ]
  },
  {
   "cell_type": "code",
   "execution_count": 14,
   "id": "c6a0eb4d",
   "metadata": {},
   "outputs": [
    {
     "name": "stdout",
     "output_type": "stream",
     "text": [
      "listen\n",
      "silent\n",
      "The given string is an anagram\n"
     ]
    }
   ],
   "source": [
    "s1=input()\n",
    "s2=input()\n",
    "l1=[]\n",
    "l2=[]\n",
    "for i in s1:\n",
    "    l1.append(i.lower())\n",
    "    l1.sort()\n",
    "for j in s2:\n",
    "    l2.append(j.lower())\n",
    "    l2.sort()\n",
    "if(l1==l2):\n",
    "    print(\"The given string is an anagram\")\n",
    "else:\n",
    "    print(\"The given string is not an anagram\")"
   ]
  },
  {
   "cell_type": "markdown",
   "id": "67192f1a",
   "metadata": {},
   "source": [
    "# 11. Write a program to remove duplicate elements from a list."
   ]
  },
  {
   "cell_type": "markdown",
   "id": "56c258ec",
   "metadata": {},
   "source": [
    "Removing the duplicates from a list"
   ]
  },
  {
   "cell_type": "code",
   "execution_count": 15,
   "id": "8698d5e3",
   "metadata": {},
   "outputs": [
    {
     "name": "stdout",
     "output_type": "stream",
     "text": [
      "Before removing duplicates [1, 2, 2, 3, 4]\n",
      "After removing the duplicates [1, 2, 3, 4]\n"
     ]
    }
   ],
   "source": [
    "list1 = [1,2,2,3,4]\n",
    "print(\"Before removing duplicates\", list1)\n",
    "final_list = []\n",
    "for i in list1:\n",
    "        if i not in final_list:\n",
    "            final_list.append(i)\n",
    "            list1 = final_list\n",
    "print(\"After removing the duplicates\", list1)"
   ]
  },
  {
   "cell_type": "markdown",
   "id": "18fe025b",
   "metadata": {},
   "source": [
    "# 12. Write a program to find the second smallest element in a list"
   ]
  },
  {
   "cell_type": "markdown",
   "id": "d7f753c2",
   "metadata": {},
   "source": [
    "Finding the second smallest element in a list\n"
   ]
  },
  {
   "cell_type": "code",
   "execution_count": 16,
   "id": "8466da09",
   "metadata": {},
   "outputs": [
    {
     "name": "stdout",
     "output_type": "stream",
     "text": [
      "Enter the number of elements: 4\n",
      "Enter the elements: 1\n",
      "Enter the elements: 2\n",
      "Enter the elements: 3\n",
      "Enter the elements: 4\n",
      "The sorted list:  [1, 2, 3, 4]\n",
      "The second smallest value of this list:  2\n"
     ]
    }
   ],
   "source": [
    "li = [] \n",
    "n = int(input(\"Enter the number of elements: \"))\n",
    "for i in range(1, n+1): \n",
    "    elem = int(input(\"Enter the elements: \")) \n",
    "    li.append(elem) \n",
    "li.sort() \n",
    "print(\"The sorted list: \", li) \n",
    "print(\"The second smallest value of this list: \",li[1])"
   ]
  },
  {
   "cell_type": "markdown",
   "id": "c2cbd040",
   "metadata": {},
   "source": [
    "# 13. Write a program to calculate the sum of the digits of a given number."
   ]
  },
  {
   "cell_type": "markdown",
   "id": "6400d746",
   "metadata": {},
   "source": [
    "Calculating sum (adding) the digits of a given number"
   ]
  },
  {
   "cell_type": "code",
   "execution_count": 18,
   "id": "5c1385d6",
   "metadata": {},
   "outputs": [
    {
     "name": "stdout",
     "output_type": "stream",
     "text": [
      " 12345\n",
      "15\n"
     ]
    }
   ],
   "source": [
    "n= int(input(\" \"))    \n",
    "sum = 0\n",
    "for digit in str(n): \n",
    "      sum += int(digit)      \n",
    "print(sum)"
   ]
  },
  {
   "cell_type": "markdown",
   "id": "3cbf08ae",
   "metadata": {},
   "source": [
    "# 15. Write a program to find the maximum and minimum elements in a list."
   ]
  },
  {
   "cell_type": "markdown",
   "id": "7e653443",
   "metadata": {},
   "source": [
    "Finding maximum and minimum elements in a list"
   ]
  },
  {
   "cell_type": "code",
   "execution_count": 19,
   "id": "d20ce9d1",
   "metadata": {},
   "outputs": [
    {
     "name": "stdout",
     "output_type": "stream",
     "text": [
      "Please enter element length in list 4\n",
      "Please enter the Value of 1 Element : 1\n",
      "Please enter the Value of 2 Element : 5\n",
      "Please enter the Value of 3 Element : 2\n",
      "Please enter the Value of 4 Element : 7\n",
      "The Smallest Element in this List is :  1\n",
      "The Largest Element in this List is :  7\n"
     ]
    }
   ],
   "source": [
    "NumList = []\n",
    "Number = int(input(\"Please enter element length in list \"))\n",
    "for i in range(1, Number + 1):\n",
    "    value = int(input(\"Please enter the Value of %d Element : \" %i))\n",
    "    NumList.append(value) \n",
    "print(\"The Smallest Element in this List is : \", min(NumList))\n",
    "print(\"The Largest Element in this List is : \", max(NumList))\n"
   ]
  },
  {
   "cell_type": "markdown",
   "id": "5fd87056",
   "metadata": {},
   "source": [
    "# 14. Write a program to check if a given list is sorted in ascending order."
   ]
  },
  {
   "cell_type": "markdown",
   "id": "5f3d73c5",
   "metadata": {},
   "source": [
    "Check the list whether it is sorted in ascending order"
   ]
  },
  {
   "cell_type": "code",
   "execution_count": 21,
   "id": "97188bbf",
   "metadata": {},
   "outputs": [],
   "source": [
    "def is_list_sorted(ls):\n",
    "    for i in range(1, len(ls)):        \n",
    "        if ls[i] < ls[i-1]:\n",
    "            return False\n",
    "    return True"
   ]
  },
  {
   "cell_type": "code",
   "execution_count": 22,
   "id": "cdba09be",
   "metadata": {},
   "outputs": [
    {
     "name": "stdout",
     "output_type": "stream",
     "text": [
      "True\n"
     ]
    }
   ],
   "source": [
    "ls = [1, 2, 3, 4, 5]\n",
    "print(is_list_sorted(ls))"
   ]
  },
  {
   "cell_type": "code",
   "execution_count": null,
   "id": "b5a004fd",
   "metadata": {},
   "outputs": [],
   "source": []
  }
 ],
 "metadata": {
  "kernelspec": {
   "display_name": "Python 3 (ipykernel)",
   "language": "python",
   "name": "python3"
  },
  "language_info": {
   "codemirror_mode": {
    "name": "ipython",
    "version": 3
   },
   "file_extension": ".py",
   "mimetype": "text/x-python",
   "name": "python",
   "nbconvert_exporter": "python",
   "pygments_lexer": "ipython3",
   "version": "3.10.9"
  }
 },
 "nbformat": 4,
 "nbformat_minor": 5
}
